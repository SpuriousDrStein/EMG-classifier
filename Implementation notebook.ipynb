{
 "cells": [
  {
   "cell_type": "code",
   "execution_count": 43,
   "metadata": {},
   "outputs": [],
   "source": [
    "import model as m\n",
    "import tensorflow as tf\n",
    "import numpy as np\n",
    "import math\n",
    "import serial as ser\n",
    "import os\n",
    "import codecs\n",
    "from tensorflow.contrib.nn import conv1d_transpose\n",
    "from tensorflow.contrib.opt import AdamWOptimizer\n",
    "from tensorflow.contrib import autograph"
   ]
  },
  {
   "cell_type": "code",
   "execution_count": 58,
   "metadata": {},
   "outputs": [],
   "source": [
    "# HPs\n",
    "NUM_CHANNELS = 6\n",
    "num_recordings = 1\n",
    "batch_size = 256 * 2\n",
    "z_chan = 64\n",
    "# h_size = 64\n",
    "port = '\\\\.\\COM3'\n",
    "iterations = 100\n",
    "pred_err = 9999\n",
    "\n",
    "# normalization parameters\n",
    "gamma = 5\n",
    "beta = 1"
   ]
  },
  {
   "cell_type": "code",
   "execution_count": 86,
   "metadata": {},
   "outputs": [],
   "source": [
    "# MODEL\n",
    "c = m.processer(z_chan, 1, input_size=batch_size)\n",
    "tf.reset_default_graph()"
   ]
  },
  {
   "cell_type": "code",
   "execution_count": 87,
   "metadata": {},
   "outputs": [],
   "source": [
    "x1 = tf.placeholder(name='X1', shape=(num_recordings, batch_size, 1), dtype=tf.float32)\n",
    "x2 = tf.placeholder(name='X2', shape=(num_recordings, batch_size, 1), dtype=tf.float32)\n",
    "x3 = tf.placeholder(name='X3', shape=(num_recordings, batch_size, 1), dtype=tf.float32)\n",
    "x4 = tf.placeholder(name='X4', shape=(num_recordings, batch_size, 1), dtype=tf.float32)\n",
    "x5 = tf.placeholder(name='X5', shape=(num_recordings, batch_size, 1), dtype=tf.float32)\n",
    "x6 = tf.placeholder(name='X6', shape=(num_recordings, batch_size, 1), dtype=tf.float32)\n",
    "\n",
    "z = tf.placeholder(name='z', shape=(num_recordings, NUM_CHANNELS, *c.z_shape), dtype=tf.float32)\n",
    "label = tf.placeholder(name='label', shape=(num_actions), dtype=tf.float32)"
   ]
  },
  {
   "cell_type": "code",
   "execution_count": 88,
   "metadata": {},
   "outputs": [],
   "source": [
    "# batch normalize input\n",
    "mean1, var1 = tf.nn.moments(x1, 0)\n",
    "mean2, var2 = tf.nn.moments(x2, 0)\n",
    "mean3, var3 = tf.nn.moments(x3, 0)\n",
    "mean4, var4 = tf.nn.moments(x4, 0)\n",
    "mean5, var5 = tf.nn.moments(x5, 0)\n",
    "mean6, var6 = tf.nn.moments(x6, 0)\n",
    "nx1 = (x1 - mean1)/tf.sqrt(tf.square(var1)+0.00001) * gamma + beta\n",
    "nx2 = (x2 - mean2)/tf.sqrt(tf.square(var2)+0.00001) * gamma + beta\n",
    "nx3 = (x3 - mean3)/tf.sqrt(tf.square(var3)+0.00001) * gamma + beta\n",
    "nx4 = (x4 - mean4)/tf.sqrt(tf.square(var4)+0.00001) * gamma + beta\n",
    "nx5 = (x5 - mean5)/tf.sqrt(tf.square(var5)+0.00001) * gamma + beta\n",
    "nx6 = (x6 - mean6)/tf.sqrt(tf.square(var6)+0.00001) * gamma + beta"
   ]
  },
  {
   "cell_type": "code",
   "execution_count": 89,
   "metadata": {},
   "outputs": [
    {
     "name": "stdout",
     "output_type": "stream",
     "text": [
      "encoder channels:  [2, 4, 8, 16, 32, 64]\n",
      "encoder channels:  [2, 4, 8, 16, 32, 64]\n",
      "encoder channels:  [2, 4, 8, 16, 32, 64]\n",
      "encoder channels:  [2, 4, 8, 16, 32, 64]\n",
      "encoder channels:  [2, 4, 8, 16, 32, 64]\n",
      "encoder channels:  [2, 4, 8, 16, 32, 64]\n"
     ]
    }
   ],
   "source": [
    "# Model\n",
    "xx1, xx2, xx3, xx4, xx5, xx6 = p.encoder(nx1), p.encoder(nx2, reuse=True), p.encoder(nx3, reuse=True), p.encoder(nx4, reuse=True), p.encoder(nx5, reuse=True), p.encoder(nx6, reuse=True)"
   ]
  },
  {
   "cell_type": "code",
   "execution_count": 91,
   "metadata": {},
   "outputs": [
    {
     "name": "stdout",
     "output_type": "stream",
     "text": [
      "flattend z shape:  (6, 1024)\n"
     ]
    }
   ],
   "source": [
    "z = tf.layers.flatten(tf.concat(axis=0, values=[xx1,xx2,xx3,xx4,xx5,xx6]))\n",
    "print('flattend z shape: ', z.shape)"
   ]
  },
  {
   "cell_type": "code",
   "execution_count": 93,
   "metadata": {},
   "outputs": [
    {
     "name": "stdout",
     "output_type": "stream",
     "text": [
      "prediction shape:  (6, 3)\n"
     ]
    }
   ],
   "source": [
    "prediction = p.fully_connected(z, h_layer_sizes=(h_size*NUM_CHANNELS, int((h_size*NUM_CHANNELS)/2), int((h_size*NUM_CHANNELS)/4), int((h_size*NUM_CHANNELS)/6), int((h_size*NUM_CHANNELS)/8) ,num_actions))\n",
    "print('prediction shape: ', prediction.shape)"
   ]
  },
  {
   "cell_type": "code",
   "execution_count": 99,
   "metadata": {},
   "outputs": [],
   "source": [
    "prediction_error = tf.reduce_sum([(tf.losses.softmax_cross_entropy(label, tf.squeeze(prediction[u]))) for u in range(NUM_CHANNELS)])"
   ]
  },
  {
   "cell_type": "code",
   "execution_count": 100,
   "metadata": {},
   "outputs": [],
   "source": [
    "optimizer = AdamWOptimizer(learning_rate=0.001, weight_decay=0.3).minimize(prediction_error, var_list=tf.trainable_variables())"
   ]
  },
  {
   "cell_type": "code",
   "execution_count": 104,
   "metadata": {},
   "outputs": [],
   "source": [
    "# Training variables\n",
    "local_save_path = '\\\\saved_models\\\\model_save.ckpt'\n",
    "saver = tf.train.Saver()\n",
    "training = True\n",
    "load = False\n",
    "\n",
    "# Action variables\n",
    "num_actions = 3\n",
    "actionspace = ['a','b','n']\n",
    "action_one_hot = np.identity(len(actionspace))\n",
    "past_actions = np.empty([1, NUM_CHANNELS, num_recordings, batch_size, 1])"
   ]
  },
  {
   "cell_type": "code",
   "execution_count": 106,
   "metadata": {},
   "outputs": [
    {
     "ename": "SerialException",
     "evalue": "could not open port '\\\\.\\\\COM3': FileNotFoundError(2, 'Das System kann die angegebene Datei nicht finden.', None, 2)",
     "output_type": "error",
     "traceback": [
      "\u001b[1;31m---------------------------------------------------------------------------\u001b[0m",
      "\u001b[1;31mSerialException\u001b[0m                           Traceback (most recent call last)",
      "\u001b[1;32m<ipython-input-106-1259253b12b6>\u001b[0m in \u001b[0;36m<module>\u001b[1;34m\u001b[0m\n\u001b[0;32m      1\u001b[0m \u001b[1;31m# serial connection\u001b[0m\u001b[1;33m\u001b[0m\u001b[1;33m\u001b[0m\u001b[1;33m\u001b[0m\u001b[0m\n\u001b[1;32m----> 2\u001b[1;33m \u001b[0mserial_connection\u001b[0m \u001b[1;33m=\u001b[0m \u001b[0mser\u001b[0m\u001b[1;33m.\u001b[0m\u001b[0mSerial\u001b[0m\u001b[1;33m(\u001b[0m\u001b[0mport\u001b[0m\u001b[1;33m=\u001b[0m\u001b[0mport\u001b[0m\u001b[1;33m,\u001b[0m \u001b[0mbaudrate\u001b[0m\u001b[1;33m=\u001b[0m\u001b[1;36m9600\u001b[0m\u001b[1;33m)\u001b[0m\u001b[1;33m\u001b[0m\u001b[1;33m\u001b[0m\u001b[0m\n\u001b[0m\u001b[0;32m      3\u001b[0m \u001b[0mprint\u001b[0m\u001b[1;33m(\u001b[0m\u001b[1;34m'serial port: '\u001b[0m\u001b[1;33m,\u001b[0m \u001b[0mserial_connection\u001b[0m\u001b[1;33m.\u001b[0m\u001b[0mname\u001b[0m\u001b[1;33m,\u001b[0m \u001b[1;34m' used. \\nfirst hex bit: '\u001b[0m\u001b[1;33m,\u001b[0m \u001b[0mserial_connection\u001b[0m\u001b[1;33m.\u001b[0m\u001b[0mread\u001b[0m\u001b[1;33m(\u001b[0m\u001b[1;36m1\u001b[0m\u001b[1;33m)\u001b[0m\u001b[1;33m)\u001b[0m\u001b[1;33m\u001b[0m\u001b[1;33m\u001b[0m\u001b[0m\n",
      "\u001b[1;32m~\\AppData\\Local\\Continuum\\miniconda3\\envs\\tf-pyserial-env\\lib\\site-packages\\serial\\serialwin32.py\u001b[0m in \u001b[0;36m__init__\u001b[1;34m(self, *args, **kwargs)\u001b[0m\n\u001b[0;32m     29\u001b[0m         \u001b[0mself\u001b[0m\u001b[1;33m.\u001b[0m\u001b[0m_overlapped_read\u001b[0m \u001b[1;33m=\u001b[0m \u001b[1;32mNone\u001b[0m\u001b[1;33m\u001b[0m\u001b[1;33m\u001b[0m\u001b[0m\n\u001b[0;32m     30\u001b[0m         \u001b[0mself\u001b[0m\u001b[1;33m.\u001b[0m\u001b[0m_overlapped_write\u001b[0m \u001b[1;33m=\u001b[0m \u001b[1;32mNone\u001b[0m\u001b[1;33m\u001b[0m\u001b[1;33m\u001b[0m\u001b[0m\n\u001b[1;32m---> 31\u001b[1;33m         \u001b[0msuper\u001b[0m\u001b[1;33m(\u001b[0m\u001b[0mSerial\u001b[0m\u001b[1;33m,\u001b[0m \u001b[0mself\u001b[0m\u001b[1;33m)\u001b[0m\u001b[1;33m.\u001b[0m\u001b[0m__init__\u001b[0m\u001b[1;33m(\u001b[0m\u001b[1;33m*\u001b[0m\u001b[0margs\u001b[0m\u001b[1;33m,\u001b[0m \u001b[1;33m**\u001b[0m\u001b[0mkwargs\u001b[0m\u001b[1;33m)\u001b[0m\u001b[1;33m\u001b[0m\u001b[1;33m\u001b[0m\u001b[0m\n\u001b[0m\u001b[0;32m     32\u001b[0m \u001b[1;33m\u001b[0m\u001b[0m\n\u001b[0;32m     33\u001b[0m     \u001b[1;32mdef\u001b[0m \u001b[0mopen\u001b[0m\u001b[1;33m(\u001b[0m\u001b[0mself\u001b[0m\u001b[1;33m)\u001b[0m\u001b[1;33m:\u001b[0m\u001b[1;33m\u001b[0m\u001b[1;33m\u001b[0m\u001b[0m\n",
      "\u001b[1;32m~\\AppData\\Local\\Continuum\\miniconda3\\envs\\tf-pyserial-env\\lib\\site-packages\\serial\\serialutil.py\u001b[0m in \u001b[0;36m__init__\u001b[1;34m(self, port, baudrate, bytesize, parity, stopbits, timeout, xonxoff, rtscts, write_timeout, dsrdtr, inter_byte_timeout, exclusive, **kwargs)\u001b[0m\n\u001b[0;32m    238\u001b[0m \u001b[1;33m\u001b[0m\u001b[0m\n\u001b[0;32m    239\u001b[0m         \u001b[1;32mif\u001b[0m \u001b[0mport\u001b[0m \u001b[1;32mis\u001b[0m \u001b[1;32mnot\u001b[0m \u001b[1;32mNone\u001b[0m\u001b[1;33m:\u001b[0m\u001b[1;33m\u001b[0m\u001b[1;33m\u001b[0m\u001b[0m\n\u001b[1;32m--> 240\u001b[1;33m             \u001b[0mself\u001b[0m\u001b[1;33m.\u001b[0m\u001b[0mopen\u001b[0m\u001b[1;33m(\u001b[0m\u001b[1;33m)\u001b[0m\u001b[1;33m\u001b[0m\u001b[1;33m\u001b[0m\u001b[0m\n\u001b[0m\u001b[0;32m    241\u001b[0m \u001b[1;33m\u001b[0m\u001b[0m\n\u001b[0;32m    242\u001b[0m     \u001b[1;31m#  -  -  -  -  -  -  -  -  -  -  -  -  -  -  -  -  -  -  -  -  -  -  -  -\u001b[0m\u001b[1;33m\u001b[0m\u001b[1;33m\u001b[0m\u001b[1;33m\u001b[0m\u001b[0m\n",
      "\u001b[1;32m~\\AppData\\Local\\Continuum\\miniconda3\\envs\\tf-pyserial-env\\lib\\site-packages\\serial\\serialwin32.py\u001b[0m in \u001b[0;36mopen\u001b[1;34m(self)\u001b[0m\n\u001b[0;32m     60\u001b[0m         \u001b[1;32mif\u001b[0m \u001b[0mself\u001b[0m\u001b[1;33m.\u001b[0m\u001b[0m_port_handle\u001b[0m \u001b[1;33m==\u001b[0m \u001b[0mwin32\u001b[0m\u001b[1;33m.\u001b[0m\u001b[0mINVALID_HANDLE_VALUE\u001b[0m\u001b[1;33m:\u001b[0m\u001b[1;33m\u001b[0m\u001b[1;33m\u001b[0m\u001b[0m\n\u001b[0;32m     61\u001b[0m             \u001b[0mself\u001b[0m\u001b[1;33m.\u001b[0m\u001b[0m_port_handle\u001b[0m \u001b[1;33m=\u001b[0m \u001b[1;32mNone\u001b[0m    \u001b[1;31m# 'cause __del__ is called anyway\u001b[0m\u001b[1;33m\u001b[0m\u001b[1;33m\u001b[0m\u001b[0m\n\u001b[1;32m---> 62\u001b[1;33m             \u001b[1;32mraise\u001b[0m \u001b[0mSerialException\u001b[0m\u001b[1;33m(\u001b[0m\u001b[1;34m\"could not open port {!r}: {!r}\"\u001b[0m\u001b[1;33m.\u001b[0m\u001b[0mformat\u001b[0m\u001b[1;33m(\u001b[0m\u001b[0mself\u001b[0m\u001b[1;33m.\u001b[0m\u001b[0mportstr\u001b[0m\u001b[1;33m,\u001b[0m \u001b[0mctypes\u001b[0m\u001b[1;33m.\u001b[0m\u001b[0mWinError\u001b[0m\u001b[1;33m(\u001b[0m\u001b[1;33m)\u001b[0m\u001b[1;33m)\u001b[0m\u001b[1;33m)\u001b[0m\u001b[1;33m\u001b[0m\u001b[1;33m\u001b[0m\u001b[0m\n\u001b[0m\u001b[0;32m     63\u001b[0m \u001b[1;33m\u001b[0m\u001b[0m\n\u001b[0;32m     64\u001b[0m         \u001b[1;32mtry\u001b[0m\u001b[1;33m:\u001b[0m\u001b[1;33m\u001b[0m\u001b[1;33m\u001b[0m\u001b[0m\n",
      "\u001b[1;31mSerialException\u001b[0m: could not open port '\\\\.\\\\COM3': FileNotFoundError(2, 'Das System kann die angegebene Datei nicht finden.', None, 2)"
     ]
    }
   ],
   "source": [
    "# serial connection\n",
    "serial_connection = ser.Serial(port=port, baudrate=9600)\n",
    "print('serial port: ', serial_connection.name, ' used. \\nfirst hex bit: ', serial_connection.read(1))"
   ]
  },
  {
   "cell_type": "code",
   "execution_count": null,
   "metadata": {},
   "outputs": [],
   "source": [
    "#   LOOP\n",
    "with tf.Session() as sess:\n",
    "    if len(actionspace) != num_actions:\n",
    "        raise(AttributeError)\n",
    "\n",
    "    if load:\n",
    "        print('load model')\n",
    "        saver.restore(sess, local_save_path)\n",
    "\n",
    "    sess.run(tf.global_variables_initializer())\n",
    "\n",
    "    if training:\n",
    "        for i in range(iterations):\n",
    "\n",
    "            print('current itteration:  ', i)\n",
    "            print('current error:       ', pred_err)\n",
    "            action_label = get_label(actionspace, action_one_hot, exit_value='0')\n",
    "\n",
    "            c = serial_connection.read(NUM_CHANNELS*batch_size*4)\n",
    "            c = codecs.decode(c, 'ascii')\n",
    "            c = c.split('\\n')\n",
    "            c = [d.split('\\t') for d in c[0:-1]]\n",
    "\n",
    "            for i in range(0,len(c)):\n",
    "                for j in range(0, len(c[i])):\n",
    "                    c[i][j] = float.fromhex(c[i][j])\n",
    "\n",
    "            c = np.array(c, dtype=float)\n",
    "            c1, c2, c3, c4, c5, c6 = [np.expand_dims(np.expand_dims(c[:,i], 0), -1) for i in range(NUM_CHANNELS)]\n",
    "            _, pred, pred_err = sess.run([optimizer, prediction, prediction_error], feed_dict={'X1:0': c1, 'X2:0': c2, 'X3:0': c3, 'X4:0': c4, 'X5:0': c5, 'X6:0': c6, 'label:0':action_label})\n",
    "\n",
    "            sp = saver.save(sess, local_save_path)\n",
    "            print('saved to path: ', sp)\n",
    "\n",
    "            # np.append(past_actions, np.expand_dims([c1, c2, c3, c4, c5, c6], 0), 0)\n",
    "            # past_actions -> encode in temporal context (RNN) -> \"env representation\" -> policy network -> action_label_2"
   ]
  }
 ],
 "metadata": {
  "kernelspec": {
   "display_name": "Python 3",
   "language": "python",
   "name": "python3"
  },
  "language_info": {
   "codemirror_mode": {
    "name": "ipython",
    "version": 3
   },
   "file_extension": ".py",
   "mimetype": "text/x-python",
   "name": "python",
   "nbconvert_exporter": "python",
   "pygments_lexer": "ipython3",
   "version": "3.6.7"
  }
 },
 "nbformat": 4,
 "nbformat_minor": 2
}
